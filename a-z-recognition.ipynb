{
  "cells": [
    {
      "cell_type": "code",
      "source": [
        "import tensorflow as tf\r\n",
        "from scipy.io import loadmat\r\n",
        "import numpy as np\r\n",
        "import pandas as pd\r\n",
        "import matplotlib.pyplot as plt\r\n",
        "%matplotlib inline\r\n",
        "from tensorflow.keras.layers import Dense,Flatten,Conv2D,MaxPooling2D,BatchNormalization,Dropout\r\n",
        "from tensorflow.keras.models import Sequential\r\n",
        "from tensorflow.keras.callbacks import EarlyStopping, ModelCheckpoint,ReduceLROnPlateau\r\n",
        "import pandas as pd\r\n",
        "import cv2\r\n",
        "import PIL\r\n",
        "from PIL import Image, ImageEnhance, ImageDraw, ImageFont\r\n",
        "from IPython.display import display\r\n",
        "from sklearn.model_selection import train_test_split"
      ],
      "outputs": [],
      "execution_count": 3,
      "metadata": {
        "gather": {
          "logged": 1617550068009
        }
      }
    },
    {
      "cell_type": "code",
      "source": [
        "# Load the data\r\n",
        "train_data = pd.read_csv(\"emnist-balanced-train.csv\")\r\n",
        "test_data = pd.read_csv(\"emnist-balanced-test.csv\")"
      ],
      "outputs": [],
      "execution_count": 4,
      "metadata": {
        "collapsed": true,
        "jupyter": {
          "outputs_hidden": false,
          "source_hidden": false
        },
        "nteract": {
          "transient": {
            "deleting": false
          }
        },
        "gather": {
          "logged": 1617550077895
        }
      }
    },
    {
      "cell_type": "code",
      "source": [
        "print(train_data.shape)\r\n",
        "print(test_data.shape)"
      ],
      "outputs": [
        {
          "output_type": "stream",
          "name": "stdout",
          "text": [
            "(112799, 785)\n",
            "(18799, 785)\n"
          ]
        }
      ],
      "execution_count": 5,
      "metadata": {
        "collapsed": true,
        "jupyter": {
          "source_hidden": false,
          "outputs_hidden": false
        },
        "nteract": {
          "transient": {
            "deleting": false
          }
        },
        "gather": {
          "logged": 1617550078100
        }
      }
    },
    {
      "cell_type": "code",
      "source": [
        "#training_letters\r\n",
        "y1 = np.array(train_data.iloc[:,0].values)\r\n",
        "x1 = np.array(train_data.iloc[:,1:].values)\r\n",
        "#testing_labels\r\n",
        "y2 = np.array(test_data.iloc[:,0].values)\r\n",
        "x2 = np.array(test_data.iloc[:,1:].values)\r\n",
        "print(y1.shape)\r\n",
        "print(x1.shape)\r\n"
      ],
      "outputs": [
        {
          "output_type": "stream",
          "name": "stdout",
          "text": [
            "(112799,)\n",
            "(112799, 784)\n"
          ]
        }
      ],
      "execution_count": 6,
      "metadata": {
        "collapsed": true,
        "jupyter": {
          "source_hidden": false,
          "outputs_hidden": false
        },
        "nteract": {
          "transient": {
            "deleting": false
          }
        },
        "gather": {
          "logged": 1617550078387
        }
      }
    },
    {
      "cell_type": "code",
      "source": [
        "fig,axes = plt.subplots(3,5,figsize=(10,8))\r\n",
        "for i,ax in enumerate(axes.flat):\r\n",
        "    ax.imshow(x1[i].reshape([28,28]))"
      ],
      "outputs": [
        {
          "output_type": "display_data",
          "data": {
            "text/plain": "<Figure size 720x576 with 15 Axes>",
            "image/png": "[encoded data removed]"
          },
          "metadata": {
            "needs_background": "light"
          }
        }
      ],
      "execution_count": 7,
      "metadata": {
        "collapsed": true,
        "jupyter": {
          "source_hidden": false,
          "outputs_hidden": false
        },
        "nteract": {
          "transient": {
            "deleting": false
          }
        },
        "gather": {
          "logged": 1617550079861
        }
      }
    },
    {
      "cell_type": "code",
      "source": [
        "number_of_classes = 47\r\n",
        "\r\n",
        "y1 = tf.keras.utils.to_categorical(y1, number_of_classes)\r\n",
        "y2 = tf.keras.utils.to_categorical(y2, number_of_classes)"
      ],
      "outputs": [],
      "execution_count": 26,
      "metadata": {
        "collapsed": true,
        "jupyter": {
          "source_hidden": false,
          "outputs_hidden": false
        },
        "nteract": {
          "transient": {
            "deleting": false
          }
        },
        "gather": {
          "logged": 1617550240254
        }
      }
    },
    {
      "cell_type": "code",
      "source": [
        "# Normalise and reshape data\r\n",
        "train_images = x1 / 255.0\r\n",
        "test_images = x2 / 255.0\r\n",
        "\r\n",
        "train_images_number = train_images.shape[0]\r\n",
        "train_images_height = 28\r\n",
        "train_images_width = 28\r\n",
        "train_images_size = train_images_height*train_images_width\r\n",
        "\r\n",
        "train_images = train_images.reshape(train_images_number, train_images_height, train_images_width, 1)\r\n",
        "\r\n",
        "test_images_number = test_images.shape[0]\r\n",
        "test_images_height = 28\r\n",
        "test_images_width = 28\r\n",
        "test_images_size = test_images_height*test_images_width\r\n",
        "\r\n",
        "test_images = test_images.reshape(test_images_number, test_images_height, test_images_width, 1)"
      ],
      "outputs": [],
      "execution_count": 27,
      "metadata": {
        "collapsed": true,
        "jupyter": {
          "source_hidden": false,
          "outputs_hidden": false
        },
        "nteract": {
          "transient": {
            "deleting": false
          }
        },
        "gather": {
          "logged": 1617550242402
        }
      }
    },
    {
      "cell_type": "code",
      "source": [
        "model = Sequential([\r\n",
        "Conv2D(32,(5,5), input_shape=(28, 28, 1),activation=\"relu\"),              \r\n",
        "MaxPooling2D(pool_size = (2,2)),\r\n",
        "Dropout(0.3),\r\n",
        "Flatten(),\r\n",
        "Dense(128,activation = \"relu\"),\r\n",
        "Dense(number_of_classes,activation = \"softmax\")\r\n",
        "\r\n",
        "])\r\n",
        "model.compile(optimizer='adam',\r\n",
        "                    loss='categorical_crossentropy',\r\n",
        "                    metrics=['accuracy'])\r\n",
        "\r\n"
      ],
      "outputs": [],
      "execution_count": 32,
      "metadata": {
        "collapsed": true,
        "jupyter": {
          "source_hidden": false,
          "outputs_hidden": false
        },
        "nteract": {
          "transient": {
            "deleting": false
          }
        },
        "gather": {
          "logged": 1617550749703
        }
      }
    },
    {
      "cell_type": "code",
      "source": [
        "train_x,test_x,train_y,test_y = train_test_split(train_images,y1,test_size=0.2,random_state = 42)"
      ],
      "outputs": [],
      "execution_count": 24,
      "metadata": {
        "collapsed": true,
        "jupyter": {
          "source_hidden": false,
          "outputs_hidden": false
        },
        "nteract": {
          "transient": {
            "deleting": false
          }
        },
        "gather": {
          "logged": 1617550230654
        }
      }
    },
    {
      "cell_type": "code",
      "source": [
        "model.summary()"
      ],
      "outputs": [
        {
          "output_type": "stream",
          "name": "stdout",
          "text": [
            "Model: \"sequential_9\"\n",
            "_________________________________________________________________\n",
            "Layer (type)                 Output Shape              Param #   \n",
            "=================================================================\n",
            "conv2d_10 (Conv2D)           (None, 24, 24, 32)        832       \n",
            "_________________________________________________________________\n",
            "max_pooling2d_10 (MaxPooling (None, 12, 12, 32)        0         \n",
            "_________________________________________________________________\n",
            "dropout_10 (Dropout)         (None, 12, 12, 32)        0         \n",
            "_________________________________________________________________\n",
            "flatten_10 (Flatten)         (None, 4608)              0         \n",
            "_________________________________________________________________\n",
            "dense_21 (Dense)             (None, 128)               589952    \n",
            "_________________________________________________________________\n",
            "dense_22 (Dense)             (None, 47)                6063      \n",
            "=================================================================\n",
            "Total params: 596,847\n",
            "Trainable params: 596,847\n",
            "Non-trainable params: 0\n",
            "_________________________________________________________________\n"
          ]
        }
      ],
      "execution_count": 33,
      "metadata": {
        "collapsed": true,
        "jupyter": {
          "source_hidden": false,
          "outputs_hidden": false
        },
        "nteract": {
          "transient": {
            "deleting": false
          }
        },
        "gather": {
          "logged": 1617550766235
        }
      }
    },
    {
      "cell_type": "code",
      "source": [
        "MCP = ModelCheckpoint('Best_points_nishanth.h5',verbose=1,save_best_only=True,monitor='val_accuracy',mode='max')\r\n",
        "ES = EarlyStopping(monitor='val_accuracy',min_delta=0,verbose=0,restore_best_weights = True,patience=3,mode='max')\r\n",
        "RLP = ReduceLROnPlateau(monitor='val_loss',patience=3,factor=0.2,min_lr=0.0001)\r\n"
      ],
      "outputs": [],
      "execution_count": 34,
      "metadata": {
        "collapsed": true,
        "jupyter": {
          "source_hidden": false,
          "outputs_hidden": false
        },
        "nteract": {
          "transient": {
            "deleting": false
          }
        },
        "gather": {
          "logged": 1617550779304
        }
      }
    },
    {
      "cell_type": "code",
      "source": [
        "history = model.fit(train_x,train_y,epochs=10,validation_data=(test_x,test_y),callbacks=[MCP,ES,RLP])"
      ],
      "outputs": [
        {
          "output_type": "stream",
          "name": "stdout",
          "text": [
            "Train on 90239 samples, validate on 22560 samples\n",
            "Epoch 1/10\n",
            "90080/90239 [============================>.] - ETA: 0s - loss: 0.8049 - accuracy: 0.7548\b\b\b\b\b\b\b\b\b\b\b\b\b\b\b\b\b\b\b\b\b\b\b\b\b\b\b\b\b\b\b\b\b\b\b\b\b\b\b\b\b\b\b\b\b\b\b\b\b\b\b\b\b\b\b\b\b\b\b\b\b\b\b\b\b\b\b\b\b\b\b\b\b\b\b\b\b\b\b\b\b\b\b\b\b\b\b\b\b\b\b\b\b\b\b\b\b\b\n",
            "Epoch 00001: val_accuracy improved from -inf to 0.83076, saving model to Best_points_nishanth.h5\n",
            "90239/90239 [==============================] - 30s 329us/sample - loss: 0.8043 - accuracy: 0.7549 - val_loss: 0.5012 - val_accuracy: 0.8308\n",
            "Epoch 2/10\n",
            "90208/90239 [============================>.] - ETA: 0s - loss: 0.4813 - accuracy: 0.8359\b\b\b\b\b\b\b\b\b\b\b\b\b\b\b\b\b\b\b\b\b\b\b\b\b\b\b\b\b\b\b\b\b\b\b\b\b\b\b\b\b\b\b\b\b\b\b\b\b\b\b\b\b\b\b\b\b\b\b\b\b\b\b\b\b\b\b\b\b\b\b\b\b\b\b\b\b\b\b\b\b\b\b\b\b\b\b\b\b\b\n",
            "Epoch 00002: val_accuracy improved from 0.83076 to 0.84592, saving model to Best_points_nishanth.h5\n",
            "90239/90239 [==============================] - 28s 308us/sample - loss: 0.4814 - accuracy: 0.8359 - val_loss: 0.4382 - val_accuracy: 0.8459\n",
            "Epoch 3/10\n",
            "90080/90239 [============================>.] - ETA: 0s - loss: 0.4140 - accuracy: 0.8562\b\b\b\b\b\b\b\b\b\b\b\b\b\b\b\b\b\b\b\b\b\b\b\b\b\b\b\b\b\b\b\b\b\b\b\b\b\b\b\b\b\b\b\b\b\b\b\b\b\b\b\b\b\b\b\b\b\b\b\b\b\b\b\b\b\b\b\b\b\b\b\b\b\b\b\b\b\b\b\b\b\b\b\b\b\b\b\b\b\b\n",
            "Epoch 00003: val_accuracy improved from 0.84592 to 0.86002, saving model to Best_points_nishanth.h5\n",
            "90239/90239 [==============================] - 28s 308us/sample - loss: 0.4140 - accuracy: 0.8561 - val_loss: 0.4062 - val_accuracy: 0.8600\n",
            "Epoch 4/10\n",
            "90048/90239 [============================>.] - ETA: 0s - loss: 0.3703 - accuracy: 0.8688\b\b\b\b\b\b\b\b\b\b\b\b\b\b\b\b\b\b\b\b\b\b\b\b\b\b\b\b\b\b\b\b\b\b\b\b\b\b\b\b\b\b\b\b\b\b\b\b\b\b\b\b\b\b\b\b\b\b\b\b\b\b\b\b\b\b\b\b\b\b\b\b\b\b\b\b\b\b\b\b\b\b\b\b\b\b\b\b\b\b\n",
            "Epoch 00004: val_accuracy improved from 0.86002 to 0.86427, saving model to Best_points_nishanth.h5\n",
            "90239/90239 [==============================] - 27s 303us/sample - loss: 0.3704 - accuracy: 0.8688 - val_loss: 0.3914 - val_accuracy: 0.8643\n",
            "Epoch 5/10\n",
            "90144/90239 [============================>.] - ETA: 0s - loss: 0.3406 - accuracy: 0.8760\b\b\b\b\b\b\b\b\b\b\b\b\b\b\b\b\b\b\b\b\b\b\b\b\b\b\b\b\b\b\b\b\b\b\b\b\b\b\b\b\b\b\b\b\b\b\b\b\b\b\b\b\b\b\b\b\b\b\b\b\b\b\b\b\b\b\b\b\b\b\b\b\b\b\b\b\b\b\b\b\b\b\b\b\b\b\b\b\b\b\n",
            "Epoch 00005: val_accuracy did not improve from 0.86427\n",
            "90239/90239 [==============================] - 27s 294us/sample - loss: 0.3405 - accuracy: 0.8760 - val_loss: 0.4003 - val_accuracy: 0.8617\n",
            "Epoch 6/10\n",
            "90048/90239 [============================>.] - ETA: 0s - loss: 0.3130 - accuracy: 0.8848\b\b\b\b\b\b\b\b\b\b\b\b\b\b\b\b\b\b\b\b\b\b\b\b\b\b\b\b\b\b\b\b\b\b\b\b\b\b\b\b\b\b\b\b\b\b\b\b\b\b\b\b\b\b\b\b\b\b\b\b\b\b\b\b\b\b\b\b\b\b\b\b\b\b\b\b\b\b\b\b\b\b\b\b\b\b\b\b\b\b\n",
            "Epoch 00006: val_accuracy improved from 0.86427 to 0.86454, saving model to Best_points_nishanth.h5\n",
            "90239/90239 [==============================] - 26s 293us/sample - loss: 0.3131 - accuracy: 0.8848 - val_loss: 0.3933 - val_accuracy: 0.8645\n",
            "Epoch 7/10\n",
            "90016/90239 [============================>.] - ETA: 0s - loss: 0.2956 - accuracy: 0.8887\b\b\b\b\b\b\b\b\b\b\b\b\b\b\b\b\b\b\b\b\b\b\b\b\b\b\b\b\b\b\b\b\b\b\b\b\b\b\b\b\b\b\b\b\b\b\b\b\b\b\b\b\b\b\b\b\b\b\b\b\b\b\b\b\b\b\b\b\b\b\b\b\b\b\b\b\b\b\b\b\b\b\b\b\b\b\b\b\b\b\n",
            "Epoch 00007: val_accuracy improved from 0.86454 to 0.86817, saving model to Best_points_nishanth.h5\n",
            "90239/90239 [==============================] - 27s 294us/sample - loss: 0.2956 - accuracy: 0.8887 - val_loss: 0.3872 - val_accuracy: 0.8682\n",
            "Epoch 8/10\n",
            "90176/90239 [============================>.] - ETA: 0s - loss: 0.2793 - accuracy: 0.8931\b\b\b\b\b\b\b\b\b\b\b\b\b\b\b\b\b\b\b\b\b\b\b\b\b\b\b\b\b\b\b\b\b\b\b\b\b\b\b\b\b\b\b\b\b\b\b\b\b\b\b\b\b\b\b\b\b\b\b\b\b\b\b\b\b\b\b\b\b\b\b\b\b\b\b\b\b\b\b\b\b\b\b\b\b\b\b\b\b\b\n",
            "Epoch 00008: val_accuracy did not improve from 0.86817\n",
            "90239/90239 [==============================] - 26s 290us/sample - loss: 0.2793 - accuracy: 0.8931 - val_loss: 0.4142 - val_accuracy: 0.8623\n",
            "Epoch 9/10\n",
            "90112/90239 [============================>.] - ETA: 0s - loss: 0.2624 - accuracy: 0.8989\b\b\b\b\b\b\b\b\b\b\b\b\b\b\b\b\b\b\b\b\b\b\b\b\b\b\b\b\b\b\b\b\b\b\b\b\b\b\b\b\b\b\b\b\b\b\b\b\b\b\b\b\b\b\b\b\b\b\b\b\b\b\b\b\b\b\b\b\b\b\b\b\b\b\b\b\b\b\b\b\b\b\b\b\b\b\b\b\b\b\n",
            "Epoch 00009: val_accuracy did not improve from 0.86817\n",
            "90239/90239 [==============================] - 26s 293us/sample - loss: 0.2626 - accuracy: 0.8989 - val_loss: 0.4085 - val_accuracy: 0.8641\n",
            "Epoch 10/10\n",
            "90080/90239 [============================>.] - ETA: 0s - loss: 0.2509 - accuracy: 0.9019\b\b\b\b\b\b\b\b\b\b\b\b\b\b\b\b\b\b\b\b\b\b\b\b\b\b\b\b\b\b\b\b\b\b\b\b\b\b\b\b\b\b\b\b\b\b\b\b\b\b\b\b\b\b\b\b\b\b\b\b\b\b\b\b\b\b\b\b\b\b\b\b\b\b\b\b\b\b\b\b\b\b\b\b\b\b\b\b\b\b\n",
            "Epoch 00010: val_accuracy did not improve from 0.86817\n",
            "90239/90239 [==============================] - 26s 291us/sample - loss: 0.2509 - accuracy: 0.9020 - val_loss: 0.4091 - val_accuracy: 0.8633\n"
          ]
        }
      ],
      "execution_count": 35,
      "metadata": {
        "collapsed": true,
        "jupyter": {
          "source_hidden": false,
          "outputs_hidden": false
        },
        "nteract": {
          "transient": {
            "deleting": false
          }
        },
        "gather": {
          "logged": 1617551052423
        }
      }
    },
    {
      "cell_type": "code",
      "source": [
        "import seaborn as sns\r\n",
        "q = len(history.history['accuracy'])\r\n",
        "\r\n",
        "plt.figsize=(10,10)\r\n",
        "sns.lineplot(x = range(1,1+q),y = history.history['accuracy'], label='Accuracy')\r\n",
        "sns.lineplot(x = range(1,1+q),y = history.history['val_accuracy'], label='Val_Accuracy')\r\n",
        "plt.xlabel('epochs')\r\n",
        "plt.ylabel('Accuray')"
      ],
      "outputs": [
        {
          "output_type": "execute_result",
          "execution_count": 36,
          "data": {
            "text/plain": "Text(0, 0.5, 'Accuray')"
          },
          "metadata": {}
        },
        {
          "output_type": "display_data",
          "data": {
            "text/plain": "<Figure size 432x288 with 1 Axes>",
            "image/png": "[encoded data removed]"
          },
          "metadata": {
            "needs_background": "light"
          }
        }
      ],
      "execution_count": 36,
      "metadata": {
        "collapsed": true,
        "jupyter": {
          "source_hidden": false,
          "outputs_hidden": false
        },
        "nteract": {
          "transient": {
            "deleting": false
          }
        },
        "gather": {
          "logged": 1617551066655
        }
      }
    },
    {
      "cell_type": "code",
      "source": [
        "test_loss, test_accuracy = model.evaluate(test_x,test_y)\r\n",
        "print(f\"Test loss: {test_loss}\")\r\n",
        "print(f\"Test accuracy: {test_accuracy}\")"
      ],
      "outputs": [
        {
          "output_type": "stream",
          "name": "stdout",
          "text": [
            "22560/22560 [==============================] - 2s 88us/sample - loss: 0.3872 - accuracy: 0.8682\b\b\b\b\b\b\b\b\b\b\b\b\b\b\b\b\b\b\b\b\b\b\b\b\b\b\b\b\b\b\b\b\b\b\b\b\b\b\b\b\b\b\b\b\b\b\b\b\b\b\b\b\b\b\b\b\b\b\b\b\b\b\b\b\b\b\b\b\b\b\b\b\b\b\b\b\b\b\b\b\b\n",
            "Test loss: 0.3871571917535988\n",
            "Test accuracy: 0.8681737780570984\n"
          ]
        }
      ],
      "execution_count": 38,
      "metadata": {
        "collapsed": true,
        "jupyter": {
          "source_hidden": false,
          "outputs_hidden": false
        },
        "nteract": {
          "transient": {
            "deleting": false
          }
        },
        "gather": {
          "logged": 1617551079827
        }
      }
    },
    {
      "cell_type": "code",
      "source": [
        "\r\n",
        "my_lol_img = cv2.imread('A_img.png', cv2.IMREAD_GRAYSCALE)\r\n",
        "my_lol_img = cv2.resize(my_lol_img, (28, 28))\r\n",
        "my_img = my_lol_img[np.newaxis,...,np.newaxis]\r\n",
        "my_img.shape"
      ],
      "outputs": [
        {
          "output_type": "execute_result",
          "execution_count": 42,
          "data": {
            "text/plain": "(1, 28, 28, 1)"
          },
          "metadata": {}
        }
      ],
      "execution_count": 42,
      "metadata": {
        "collapsed": true,
        "jupyter": {
          "source_hidden": false,
          "outputs_hidden": false
        },
        "nteract": {
          "transient": {
            "deleting": false
          }
        },
        "gather": {
          "logged": 1617551169579
        }
      }
    },
    {
      "cell_type": "code",
      "source": [
        "fig, axes = plt.subplots(1, 2,figsize = (4,4))\r\n",
        "fig.subplots_adjust(hspace=-0.7, wspace= 0.2)\r\n",
        "for i,ax in enumerate(axes.flat):\r\n",
        "    ax.imshow(np.squeeze(my_img))\r\n",
        "    ax.text(6., -1.0, f'Letter A',fontsize = 20)\r\n",
        "    ax.get_xaxis().set_visible(False)\r\n",
        "    ax.get_yaxis().set_visible(False)\r\n",
        "          \r\n",
        "    \r\n",
        "plt.show()"
      ],
      "outputs": [
        {
          "output_type": "display_data",
          "data": {
            "text/plain": "<Figure size 288x288 with 2 Axes>",
            "image/png": "[encoded data removed]"
          },
          "metadata": {
            "needs_background": "light"
          }
        }
      ],
      "execution_count": 43,
      "metadata": {
        "collapsed": true,
        "jupyter": {
          "source_hidden": false,
          "outputs_hidden": false
        },
        "nteract": {
          "transient": {
            "deleting": false
          }
        },
        "gather": {
          "logged": 1617551176446
        }
      }
    },
    {
      "cell_type": "code",
      "source": [
        "predict = model.predict(my_img)\r\n",
        "answer = np.argmax(predict)\r\n",
        "class_mapping = '0123456789ABCDEFGHIJKLMNOPQRSTUVWXYZabdefghnqrt'\r\n",
        "print(class_mapping[answer+1])\r\n"
      ],
      "outputs": [
        {
          "output_type": "stream",
          "name": "stdout",
          "text": [
            "R\n"
          ]
        }
      ],
      "execution_count": 44,
      "metadata": {
        "collapsed": true,
        "jupyter": {
          "source_hidden": false,
          "outputs_hidden": false
        },
        "nteract": {
          "transient": {
            "deleting": false
          }
        },
        "gather": {
          "logged": 1617551178605
        }
      }
    },
    {
      "cell_type": "code",
      "source": [],
      "outputs": [],
      "execution_count": null,
      "metadata": {
        "collapsed": true,
        "jupyter": {
          "source_hidden": false,
          "outputs_hidden": false
        },
        "nteract": {
          "transient": {
            "deleting": false
          }
        }
      }
    }
  ],
  "metadata": {
    "kernel_info": {
      "name": "python3"
    },
    "kernelspec": {
      "name": "python3",
      "language": "python",
      "display_name": "Python 3"
    },
    "language_info": {
      "name": "python",
      "version": "3.6.9",
      "mimetype": "text/x-python",
      "codemirror_mode": {
        "name": "ipython",
        "version": 3
      },
      "pygments_lexer": "ipython3",
      "nbconvert_exporter": "python",
      "file_extension": ".py"
    },
    "microsoft": {
      "host": {
        "AzureML": {
          "notebookHasBeenCompleted": true
        }
      }
    },
    "nteract": {
      "version": "nteract-front-end@1.0.0"
    }
  },
  "nbformat": 4,
  "nbformat_minor": 4
}